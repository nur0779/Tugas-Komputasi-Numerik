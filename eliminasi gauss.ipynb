{
  "nbformat": 4,
  "nbformat_minor": 0,
  "metadata": {
    "colab": {
      "provenance": [],
      "include_colab_link": true
    },
    "kernelspec": {
      "name": "python3",
      "display_name": "Python 3"
    },
    "language_info": {
      "name": "python"
    }
  },
  "cells": [
    {
      "cell_type": "markdown",
      "metadata": {
        "id": "view-in-github",
        "colab_type": "text"
      },
      "source": [
        "<a href=\"https://colab.research.google.com/github/nur0779/Tugas-Komputasi-Numerik/blob/main/eliminasi%20gauss.ipynb\" target=\"_parent\"><img src=\"https://colab.research.google.com/assets/colab-badge.svg\" alt=\"Open In Colab\"/></a>"
      ]
    },
    {
      "cell_type": "code",
      "execution_count": 9,
      "metadata": {
        "colab": {
          "base_uri": "https://localhost:8080/"
        },
        "id": "C3aJpOzwRswY",
        "outputId": "10544520-436e-4069-ee86-2d4f0e0ac65e"
      },
      "outputs": [
        {
          "output_type": "stream",
          "name": "stdout",
          "text": [
            "Sistem Persamaan Linear matriks adalah  [[2, 3, -1, 5], [4, 4, -3, 3], [-2, 3, -1, 1]]\n",
            "Baris kedua setelah eliminasi:\n",
            "0\n",
            "-2\n",
            "-1\n",
            "-7\n"
          ]
        }
      ],
      "source": [
        "SPL = ([[2,3,-1,5],[4,4,-3,3],[-2,3,-1,1]]) #ini matriksnya\n",
        "print(\"Sistem Persamaan Linear matriks adalah \",SPL)\n",
        "#SPL[1][0]= SPL[1][0] - (2*SPL[0][0])\n",
        "#SPL[1][1] = SPL[1][1] - (2*SPL[0][1])\n",
        "#SPL[1][2] = SPL[1][2] - (2*SPL[0][2])\n",
        "#SPL[1][3] = SPL[1][3] - (2*SPL[0][3])\n",
        "\n",
        "for i in range(4):# Iterasi melalui setiap elemen dalam baris (4 elemen per baris)\n",
        "    SPL[1][i] = SPL[1][i] - (2*SPL[0][i])# Menghitung elemen baru pada baris kedua\n",
        "\n",
        "print(\"Baris kedua setelah eliminasi:\")\n",
        "print(SPL[1][0])  # Elemen pertama baris kedua\n",
        "print(SPL[1][1])  # Elemen kedua baris kedua\n",
        "print(SPL[1][2])  # Elemen ketiga baris kedua\n",
        "print(SPL[1][3])  # Elemen keempat baris kedua"
      ]
    },
    {
      "cell_type": "code",
      "source": [
        "SPL = ([[2,3,-1,5],[4,4,-3,3],[-2,3,-1,1]]) #ini matriksnya\n",
        "print(\"Sistem Persamaan Linear matriks adalah \",SPL)\n",
        "#SPL[1][0]= SPL[1][0] - (2*SPL[0][0])\n",
        "#SPL[1][1] = SPL[1][1] - (2*SPL[0][1])\n",
        "#SPL[1][2] = SPL[1][2] - (2*SPL[0][2])\n",
        "#SPL[1][3] = SPL[1][3] - (2*SPL[0][3])\n",
        "\n",
        "for i in range(4):\n",
        "    SPL[1][i] = SPL[1][i] - (2*SPL[0][i])\n",
        "\n",
        "for i in range(4):\n",
        "    SPL[2][i] = SPL[2][i] - (-1*SPL[0][i])\n",
        "\n",
        "for i in range(3):\n",
        "    SPL[2][i+1] = SPL[2][i+1] - (-3*SPL[1][i+1])\n",
        "\n",
        "SPL"
      ],
      "metadata": {
        "colab": {
          "base_uri": "https://localhost:8080/"
        },
        "id": "js9lGSow2LIs",
        "outputId": "672c60cc-3e59-4f3c-f93a-89831e5b7e31"
      },
      "execution_count": 7,
      "outputs": [
        {
          "output_type": "stream",
          "name": "stdout",
          "text": [
            "Sistem Persamaan Linear matriks adalah  [[2, 3, -1, 5], [4, 4, -3, 3], [-2, 3, -1, 1]]\n"
          ]
        },
        {
          "output_type": "execute_result",
          "data": {
            "text/plain": [
              "[[2, 3, -1, 5], [0, -2, -1, -7], [0, 0, -5, -15]]"
            ]
          },
          "metadata": {},
          "execution_count": 7
        }
      ]
    },
    {
      "cell_type": "code",
      "source": [
        "\n",
        "SPL[1][1]"
      ],
      "metadata": {
        "colab": {
          "base_uri": "https://localhost:8080/"
        },
        "id": "ciwrHKDW745H",
        "outputId": "7180c8c5-c85f-4c2e-f743-4664e831e16b"
      },
      "execution_count": 8,
      "outputs": [
        {
          "output_type": "execute_result",
          "data": {
            "text/plain": [
              "-2"
            ]
          },
          "metadata": {},
          "execution_count": 8
        }
      ]
    },
    {
      "cell_type": "code",
      "source": [
        "SPL[1][1]"
      ],
      "metadata": {
        "colab": {
          "base_uri": "https://localhost:8080/"
        },
        "id": "mAInAe368reO",
        "outputId": "a8662db0-a6fb-4e78-f568-b019c0da038c"
      },
      "execution_count": 4,
      "outputs": [
        {
          "output_type": "execute_result",
          "data": {
            "text/plain": [
              "-2"
            ]
          },
          "metadata": {},
          "execution_count": 4
        }
      ]
    }
  ]
}