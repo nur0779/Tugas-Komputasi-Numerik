{
  "nbformat": 4,
  "nbformat_minor": 0,
  "metadata": {
    "colab": {
      "provenance": []
    },
    "kernelspec": {
      "name": "python3",
      "display_name": "Python 3"
    },
    "language_info": {
      "name": "python"
    }
  },
  "cells": [
    {
      "cell_type": "code",
      "execution_count": 1,
      "metadata": {
        "id": "Di73sqyzd5Sw"
      },
      "outputs": [],
      "source": [
        "import numpy as np\n",
        "import matplotlib.pyplot as plt"
      ]
    },
    {
      "cell_type": "code",
      "source": [
        "# Definisi fungsi turunan\n",
        "def f(x, y):\n",
        "return -2 * x * y # contoh: dy/dx = -2xy"
      ],
      "metadata": {
        "colab": {
          "base_uri": "https://localhost:8080/",
          "height": 106
        },
        "id": "MW92g7xseA3A",
        "outputId": "fdb0d60f-9c74-45e1-f6e1-5156f06875b3"
      },
      "execution_count": 2,
      "outputs": [
        {
          "output_type": "error",
          "ename": "IndentationError",
          "evalue": "expected an indented block after function definition on line 2 (<ipython-input-2-d503df5b0bb6>, line 3)",
          "traceback": [
            "\u001b[0;36m  File \u001b[0;32m\"<ipython-input-2-d503df5b0bb6>\"\u001b[0;36m, line \u001b[0;32m3\u001b[0m\n\u001b[0;31m    return -2 * x * y # contoh: dy/dx = -2xy\u001b[0m\n\u001b[0m    ^\u001b[0m\n\u001b[0;31mIndentationError\u001b[0m\u001b[0;31m:\u001b[0m expected an indented block after function definition on line 2\n"
          ]
        }
      ]
    },
    {
      "cell_type": "code",
      "source": [
        "# Parameter\n",
        "x0, y0 = 0, 1 # Kondisi awal\n",
        "h = 0.1 # Ukuran langkah\n",
        "n = 20 # Jumlah iterasi\n",
        "# Inisialisasi solusi\n",
        "x = np.linspace(x0, x0 + n*h, n+1)\n",
        "y = np.zeros(n+1)\n",
        "y[0] = y0"
      ],
      "metadata": {
        "id": "fcbV_ZI-eEMP"
      },
      "execution_count": null,
      "outputs": []
    },
    {
      "cell_type": "code",
      "source": [
        "# Metode RK4\n",
        "for i in range(n):\n",
        "k1 = f(x[i], y[i])\n",
        "k2 = f(x[i] + h/2, y[i] + h/2 * k1)\n",
        "k3 = f(x[i] + h/2, y[i] + h/2 * k2)\n",
        "k4 = f(x[i] + h, y[i] + h * k3)\n",
        "y[i+1] = y[i] + h * (k1 + 2*k2 + 2*k3 + k4) / 6"
      ],
      "metadata": {
        "id": "Xu0vMWrweIgI"
      },
      "execution_count": null,
      "outputs": []
    },
    {
      "cell_type": "code",
      "source": [
        "# Plot hasil\n",
        "plt.plot(x, y, label='Numerik (RK4)')\n",
        "plt.xlabel('x')\n",
        "plt.ylabel('y')\n",
        "plt.legend()\n",
        "plt.show()"
      ],
      "metadata": {
        "id": "Ly_DRgqceMbr"
      },
      "execution_count": null,
      "outputs": []
    }
  ]
}