{
  "nbformat": 4,
  "nbformat_minor": 0,
  "metadata": {
    "colab": {
      "provenance": []
    },
    "kernelspec": {
      "name": "python3",
      "display_name": "Python 3"
    },
    "language_info": {
      "name": "python"
    }
  },
  "cells": [
    {
      "cell_type": "code",
      "execution_count": 3,
      "metadata": {
        "colab": {
          "base_uri": "https://localhost:8080/"
        },
        "id": "N7pxTugMxfJi",
        "outputId": "302499cb-a9f9-4a14-d55d-3bd1a0c073c1"
      },
      "outputs": [
        {
          "output_type": "stream",
          "name": "stdout",
          "text": [
            "First Guess: 2\n",
            "Second Guess: 3\n",
            "Tolerable Error: 0.00001\n",
            "\n",
            "\n",
            "*** FALSE POSITION METHOD IMPLEMENTATION ***\n",
            "Iteration-1, x2 = 2.500000 and f(x2) = -5.875000\n",
            "Iteration-2, x2 = 2.750000 and f(x2) = -1.953125\n",
            "Iteration-3, x2 = 2.875000 and f(x2) = 0.388672\n",
            "Iteration-4, x2 = 2.812500 and f(x2) = -0.815186\n",
            "Iteration-5, x2 = 2.843750 and f(x2) = -0.221588\n",
            "Iteration-6, x2 = 2.859375 and f(x2) = 0.081448\n",
            "Iteration-7, x2 = 2.851562 and f(x2) = -0.070592\n",
            "Iteration-8, x2 = 2.855469 and f(x2) = 0.005297\n",
            "Iteration-9, x2 = 2.853516 and f(x2) = -0.032680\n",
            "Iteration-10, x2 = 2.854492 and f(x2) = -0.013700\n",
            "Iteration-11, x2 = 2.854980 and f(x2) = -0.004204\n",
            "Iteration-12, x2 = 2.855225 and f(x2) = 0.000546\n",
            "Iteration-13, x2 = 2.855103 and f(x2) = -0.001829\n",
            "Iteration-14, x2 = 2.855164 and f(x2) = -0.000641\n",
            "Iteration-15, x2 = 2.855194 and f(x2) = -0.000048\n",
            "Iteration-16, x2 = 2.855209 and f(x2) = 0.000249\n",
            "Iteration-17, x2 = 2.855202 and f(x2) = 0.000101\n",
            "Iteration-18, x2 = 2.855198 and f(x2) = 0.000027\n",
            "Iteration-19, x2 = 2.855196 and f(x2) = -0.000011\n",
            "Iteration-20, x2 = 2.855197 and f(x2) = 0.000008\n",
            "\n",
            "Required root is: 2.85519695\n"
          ]
        }
      ],
      "source": [
        "# Defining Function\n",
        "def f(x):\n",
        "    return x**3-5*x-9\n",
        "\n",
        "# Implementing False Position Method\n",
        "def falsePosition(x0,x1,e):\n",
        "    step = 1\n",
        "    print('\\n\\n*** FALSE POSITION METHOD IMPLEMENTATION ***')\n",
        "    condition = True\n",
        "    while condition:\n",
        "        #x2 = x0 - (x1-x0) * f(x0)/( f(x1) - f(x0) ) # regula falsi\n",
        "        x2 = (x0+x1)/2 # bisection\n",
        "        print('Iteration-%d, x2 = %0.6f and f(x2) = %0.6f' % (step, x2, f(x2)))\n",
        "\n",
        "        if f(x0) * f(x2) < 0:\n",
        "            x1 = x2\n",
        "        else:\n",
        "            x0 = x2\n",
        "\n",
        "        step = step + 1\n",
        "        condition = abs(f(x2)) > e\n",
        "\n",
        "    print('\\nRequired root is: %0.8f' % x2)\n",
        "\n",
        "\n",
        "# Input Section\n",
        "x0 = input('First Guess: ')\n",
        "x1 = input('Second Guess: ')\n",
        "e = input('Tolerable Error: ')\n",
        "\n",
        "# Converting input to float\n",
        "x0 = float(x0)\n",
        "x1 = float(x1)\n",
        "e = float(e)\n",
        "\n",
        "#Note: You can combine above two section like this\n",
        "# x0 = float(input('First Guess: '))\n",
        "# x1 = float(input('Second Guess: '))\n",
        "# e = float(input('Tolerable Error: '))\n",
        "\n",
        "\n",
        "# Checking Correctness of initial guess values and false positioning\n",
        "if f(x0) * f(x1) > 0.0:\n",
        "    print('Given guess values do not bracket the root.')\n",
        "    print('Try Again with different guess values.')\n",
        "else:\n",
        "    falsePosition(x0,x1,e)"
      ]
    }
  ]
}