{
  "nbformat": 4,
  "nbformat_minor": 0,
  "metadata": {
    "colab": {
      "provenance": [],
      "include_colab_link": true
    },
    "kernelspec": {
      "name": "python3",
      "display_name": "Python 3"
    },
    "language_info": {
      "name": "python"
    }
  },
  "cells": [
    {
      "cell_type": "markdown",
      "metadata": {
        "id": "view-in-github",
        "colab_type": "text"
      },
      "source": [
        "<a href=\"https://colab.research.google.com/github/nur0779/Tugas-Komputasi-Numerik/blob/main/newton_raphson.ipynb\" target=\"_parent\"><img src=\"https://colab.research.google.com/assets/colab-badge.svg\" alt=\"Open In Colab\"/></a>"
      ]
    },
    {
      "cell_type": "code",
      "execution_count": 2,
      "metadata": {
        "colab": {
          "base_uri": "https://localhost:8080/"
        },
        "id": "SF2J6X6h8nxn",
        "outputId": "9aa46703-7d32-4b40-9520-947e044a59b2"
      },
      "outputs": [
        {
          "output_type": "stream",
          "name": "stdout",
          "text": [
            "Enter Guess: 2\n",
            "Tolerable Error: 0.0001\n",
            "Maximum Step: 10\n",
            "\n",
            "\n",
            "*** NEWTON RAPHSON METHOD IMPLEMENTATION ***\n",
            "Iteration-1, x1 = 3.571429 and f(x1) = 18.696793\n",
            "Iteration-2, x1 = 3.009378 and f(x1) = 3.207103\n",
            "Iteration-3, x1 = 2.864712 and f(x1) = 0.185915\n",
            "Iteration-4, x1 = 2.855236 and f(x1) = 0.000771\n",
            "Iteration-5, x1 = 2.855197 and f(x1) = 0.000000\n",
            "\n",
            "Required root is: 2.85519654\n"
          ]
        }
      ],
      "source": [
        "# Defining Function\n",
        "def f(x):\n",
        "    # Fungsi yang ingin dicari akarnya\n",
        "    return x**3 - 5*x - 9\n",
        "\n",
        "# Defining the derivative of the function\n",
        "def g(x):\n",
        "    # Turunan dari fungsi utama\n",
        "    return 3*x**2 - 5\n",
        "\n",
        "# Implementing Newton-Raphson Method\n",
        "def newtonRaphson(x0, e, N):\n",
        "    print('\\n\\n*** NEWTON RAPHSON METHOD IMPLEMENTATION ***')\n",
        "    step = 1  # Iterasi awal\n",
        "    flag = 1  # Flag untuk menunjukkan apakah konvergen\n",
        "    condition = True  # Kondisi untuk iterasi\n",
        "\n",
        "    while condition:\n",
        "        # Mengecek jika turunan sama dengan nol\n",
        "        if g(x0) == 0.0:\n",
        "            print('Divide by zero error!')\n",
        "            break\n",
        "\n",
        "        # Menghitung nilai x1 menggunakan rumus Newton-Raphson\n",
        "        x1 = x0 - f(x0) / g(x0)\n",
        "        print('Iteration-%d, x1 = %0.6f and f(x1) = %0.6f' % (step, x1, f(x1)))\n",
        "\n",
        "        # Memperbarui nilai tebakan\n",
        "        x0 = x1\n",
        "        step += 1\n",
        "\n",
        "        # Mengecek apakah iterasi telah melebihi batas\n",
        "        if step > N:\n",
        "            flag = 0\n",
        "            break\n",
        "\n",
        "        # Mengecek apakah nilai fungsi di akar mendekati nol\n",
        "        condition = abs(f(x1)) > e\n",
        "\n",
        "    if flag == 1:\n",
        "        print('\\nRequired root is: %0.8f' % x1)\n",
        "    else:\n",
        "        print('\\nNot Convergent.')\n",
        "\n",
        "# Input Section\n",
        "x0 = input('Enter Guess: ')\n",
        "e = input('Tolerable Error: ')\n",
        "N = input('Maximum Step: ')\n",
        "\n",
        "# Converting x0 and e to float\n",
        "x0 = float(x0)\n",
        "e = float(e)\n",
        "\n",
        "# Converting N to integer\n",
        "N = int(N)\n",
        "\n",
        "\n",
        "#Note: You can combine above three section like this\n",
        "# x0 = float(input('Enter Guess: '))\n",
        "# e = float(input('Tolerable Error: '))\n",
        "# N = int(input('Maximum Step: '))\n",
        "\n",
        "# Starting Newton Raphson Method\n",
        "newtonRaphson(x0,e,N)"
      ]
    }
  ]
}